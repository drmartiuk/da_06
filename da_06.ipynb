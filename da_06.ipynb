{
 "cells": [
  {
   "cell_type": "markdown",
   "id": "96b7dad8",
   "metadata": {},
   "source": [
    "# Анализ данных пользователей сервиса аренды GoFast \n",
    "\n",
    "Описание задачи\n",
    "\n",
    "Вы аналитик популярного сервиса аренды самокатов GoFast. Вам передали данные о некоторых пользователях из нескольких городов, а также об их поездках. \n",
    "Проанализируйте данные и проверьте некоторые гипотезы, которые могут помочь бизнесу вырасти.\n",
    "Чтобы совершать поездки по городу, пользователи сервиса GoFast пользуются мобильным приложением. \n",
    "В основных данных есть информация о пользователях, их поездках и подписках."
   ]
  },
  {
   "cell_type": "code",
   "execution_count": 1,
   "id": "72576667",
   "metadata": {},
   "outputs": [],
   "source": [
    "import pandas as pd\n",
    "import numpy as np\n",
    "import scipy.stats as st\n",
    "import matplotlib.pyplot as plt"
   ]
  },
  {
   "cell_type": "markdown",
   "id": "c42cbe00",
   "metadata": {},
   "source": [
    "#### Шаг 1. Загрузка данных"
   ]
  },
  {
   "cell_type": "code",
   "execution_count": 2,
   "id": "eff9f206",
   "metadata": {},
   "outputs": [
    {
     "data": {
      "text/html": [
       "<div>\n",
       "<style scoped>\n",
       "    .dataframe tbody tr th:only-of-type {\n",
       "        vertical-align: middle;\n",
       "    }\n",
       "\n",
       "    .dataframe tbody tr th {\n",
       "        vertical-align: top;\n",
       "    }\n",
       "\n",
       "    .dataframe thead th {\n",
       "        text-align: right;\n",
       "    }\n",
       "</style>\n",
       "<table border=\"1\" class=\"dataframe\">\n",
       "  <thead>\n",
       "    <tr style=\"text-align: right;\">\n",
       "      <th></th>\n",
       "      <th>user_id</th>\n",
       "      <th>name</th>\n",
       "      <th>age</th>\n",
       "      <th>city</th>\n",
       "      <th>subscription_type</th>\n",
       "    </tr>\n",
       "  </thead>\n",
       "  <tbody>\n",
       "    <tr>\n",
       "      <th>0</th>\n",
       "      <td>1</td>\n",
       "      <td>Кира</td>\n",
       "      <td>22</td>\n",
       "      <td>Тюмень</td>\n",
       "      <td>ultra</td>\n",
       "    </tr>\n",
       "    <tr>\n",
       "      <th>1</th>\n",
       "      <td>2</td>\n",
       "      <td>Станислав</td>\n",
       "      <td>31</td>\n",
       "      <td>Омск</td>\n",
       "      <td>ultra</td>\n",
       "    </tr>\n",
       "    <tr>\n",
       "      <th>2</th>\n",
       "      <td>3</td>\n",
       "      <td>Алексей</td>\n",
       "      <td>20</td>\n",
       "      <td>Москва</td>\n",
       "      <td>ultra</td>\n",
       "    </tr>\n",
       "    <tr>\n",
       "      <th>3</th>\n",
       "      <td>4</td>\n",
       "      <td>Константин</td>\n",
       "      <td>26</td>\n",
       "      <td>Ростов-на-Дону</td>\n",
       "      <td>ultra</td>\n",
       "    </tr>\n",
       "    <tr>\n",
       "      <th>4</th>\n",
       "      <td>5</td>\n",
       "      <td>Адель</td>\n",
       "      <td>28</td>\n",
       "      <td>Омск</td>\n",
       "      <td>ultra</td>\n",
       "    </tr>\n",
       "  </tbody>\n",
       "</table>\n",
       "</div>"
      ],
      "text/plain": [
       "   user_id        name  age            city subscription_type\n",
       "0        1        Кира   22          Тюмень             ultra\n",
       "1        2   Станислав   31            Омск             ultra\n",
       "2        3     Алексей   20          Москва             ultra\n",
       "3        4  Константин   26  Ростов-на-Дону             ultra\n",
       "4        5       Адель   28            Омск             ultra"
      ]
     },
     "metadata": {},
     "output_type": "display_data"
    },
    {
     "data": {
      "text/html": [
       "<div>\n",
       "<style scoped>\n",
       "    .dataframe tbody tr th:only-of-type {\n",
       "        vertical-align: middle;\n",
       "    }\n",
       "\n",
       "    .dataframe tbody tr th {\n",
       "        vertical-align: top;\n",
       "    }\n",
       "\n",
       "    .dataframe thead th {\n",
       "        text-align: right;\n",
       "    }\n",
       "</style>\n",
       "<table border=\"1\" class=\"dataframe\">\n",
       "  <thead>\n",
       "    <tr style=\"text-align: right;\">\n",
       "      <th></th>\n",
       "      <th>user_id</th>\n",
       "      <th>distance</th>\n",
       "      <th>duration</th>\n",
       "      <th>date</th>\n",
       "    </tr>\n",
       "  </thead>\n",
       "  <tbody>\n",
       "    <tr>\n",
       "      <th>0</th>\n",
       "      <td>1</td>\n",
       "      <td>4409.919140</td>\n",
       "      <td>25.599769</td>\n",
       "      <td>2021-01-01</td>\n",
       "    </tr>\n",
       "    <tr>\n",
       "      <th>1</th>\n",
       "      <td>1</td>\n",
       "      <td>2617.592153</td>\n",
       "      <td>15.816871</td>\n",
       "      <td>2021-01-18</td>\n",
       "    </tr>\n",
       "    <tr>\n",
       "      <th>2</th>\n",
       "      <td>1</td>\n",
       "      <td>754.159807</td>\n",
       "      <td>6.232113</td>\n",
       "      <td>2021-04-20</td>\n",
       "    </tr>\n",
       "    <tr>\n",
       "      <th>3</th>\n",
       "      <td>1</td>\n",
       "      <td>2694.783254</td>\n",
       "      <td>18.511000</td>\n",
       "      <td>2021-08-11</td>\n",
       "    </tr>\n",
       "    <tr>\n",
       "      <th>4</th>\n",
       "      <td>1</td>\n",
       "      <td>4028.687306</td>\n",
       "      <td>26.265803</td>\n",
       "      <td>2021-08-28</td>\n",
       "    </tr>\n",
       "  </tbody>\n",
       "</table>\n",
       "</div>"
      ],
      "text/plain": [
       "   user_id     distance   duration        date\n",
       "0        1  4409.919140  25.599769  2021-01-01\n",
       "1        1  2617.592153  15.816871  2021-01-18\n",
       "2        1   754.159807   6.232113  2021-04-20\n",
       "3        1  2694.783254  18.511000  2021-08-11\n",
       "4        1  4028.687306  26.265803  2021-08-28"
      ]
     },
     "metadata": {},
     "output_type": "display_data"
    },
    {
     "data": {
      "text/html": [
       "<div>\n",
       "<style scoped>\n",
       "    .dataframe tbody tr th:only-of-type {\n",
       "        vertical-align: middle;\n",
       "    }\n",
       "\n",
       "    .dataframe tbody tr th {\n",
       "        vertical-align: top;\n",
       "    }\n",
       "\n",
       "    .dataframe thead th {\n",
       "        text-align: right;\n",
       "    }\n",
       "</style>\n",
       "<table border=\"1\" class=\"dataframe\">\n",
       "  <thead>\n",
       "    <tr style=\"text-align: right;\">\n",
       "      <th></th>\n",
       "      <th>subscription_type</th>\n",
       "      <th>minute_price</th>\n",
       "      <th>start_ride_price</th>\n",
       "      <th>subscription_fee</th>\n",
       "    </tr>\n",
       "  </thead>\n",
       "  <tbody>\n",
       "    <tr>\n",
       "      <th>0</th>\n",
       "      <td>free</td>\n",
       "      <td>8</td>\n",
       "      <td>50</td>\n",
       "      <td>0</td>\n",
       "    </tr>\n",
       "    <tr>\n",
       "      <th>1</th>\n",
       "      <td>ultra</td>\n",
       "      <td>6</td>\n",
       "      <td>0</td>\n",
       "      <td>199</td>\n",
       "    </tr>\n",
       "  </tbody>\n",
       "</table>\n",
       "</div>"
      ],
      "text/plain": [
       "  subscription_type  minute_price  start_ride_price  subscription_fee\n",
       "0              free             8                50                 0\n",
       "1             ultra             6                 0               199"
      ]
     },
     "metadata": {},
     "output_type": "display_data"
    },
    {
     "name": "stdout",
     "output_type": "stream",
     "text": [
      "<class 'pandas.core.frame.DataFrame'>\n",
      "RangeIndex: 1565 entries, 0 to 1564\n",
      "Data columns (total 5 columns):\n",
      " #   Column             Non-Null Count  Dtype \n",
      "---  ------             --------------  ----- \n",
      " 0   user_id            1565 non-null   int64 \n",
      " 1   name               1565 non-null   object\n",
      " 2   age                1565 non-null   int64 \n",
      " 3   city               1565 non-null   object\n",
      " 4   subscription_type  1565 non-null   object\n",
      "dtypes: int64(2), object(3)\n",
      "memory usage: 61.3+ KB\n",
      "<class 'pandas.core.frame.DataFrame'>\n",
      "RangeIndex: 18068 entries, 0 to 18067\n",
      "Data columns (total 4 columns):\n",
      " #   Column    Non-Null Count  Dtype  \n",
      "---  ------    --------------  -----  \n",
      " 0   user_id   18068 non-null  int64  \n",
      " 1   distance  18068 non-null  float64\n",
      " 2   duration  18068 non-null  float64\n",
      " 3   date      18068 non-null  object \n",
      "dtypes: float64(2), int64(1), object(1)\n",
      "memory usage: 564.8+ KB\n",
      "<class 'pandas.core.frame.DataFrame'>\n",
      "RangeIndex: 2 entries, 0 to 1\n",
      "Data columns (total 4 columns):\n",
      " #   Column             Non-Null Count  Dtype \n",
      "---  ------             --------------  ----- \n",
      " 0   subscription_type  2 non-null      object\n",
      " 1   minute_price       2 non-null      int64 \n",
      " 2   start_ride_price   2 non-null      int64 \n",
      " 3   subscription_fee   2 non-null      int64 \n",
      "dtypes: int64(3), object(1)\n",
      "memory usage: 192.0+ bytes\n"
     ]
    }
   ],
   "source": [
    "users_go=pd.read_csv('/datasets/users_go.csv')\n",
    "rides_go=pd.read_csv('/datasets/rides_go.csv')\n",
    "subscriptions_go=pd.read_csv('/datasets/subscriptions_go.csv')\n",
    "display(users_go.head(5))\n",
    "display(rides_go.head(5))\n",
    "display(subscriptions_go.head(5))\n",
    "users_go.info()\n",
    "rides_go.info()\n",
    "subscriptions_go.info()"
   ]
  },
  {
   "cell_type": "markdown",
   "id": "e95ebca7",
   "metadata": {},
   "source": [
    "#### Шаг 2. Предобработка данных"
   ]
  },
  {
   "cell_type": "code",
   "execution_count": 3,
   "id": "af6d202c",
   "metadata": {
    "scrolled": false
   },
   "outputs": [
    {
     "data": {
      "text/plain": [
       "user_id              0\n",
       "name                 0\n",
       "age                  0\n",
       "city                 0\n",
       "subscription_type    0\n",
       "dtype: int64"
      ]
     },
     "metadata": {},
     "output_type": "display_data"
    },
    {
     "data": {
      "text/plain": [
       "user_id     0\n",
       "distance    0\n",
       "duration    0\n",
       "date        0\n",
       "month       0\n",
       "dtype: int64"
      ]
     },
     "metadata": {},
     "output_type": "display_data"
    },
    {
     "data": {
      "text/plain": [
       "subscription_type    0\n",
       "minute_price         0\n",
       "start_ride_price     0\n",
       "subscription_fee     0\n",
       "dtype: int64"
      ]
     },
     "metadata": {},
     "output_type": "display_data"
    },
    {
     "data": {
      "text/plain": [
       "'Количество явных дубликатов'"
      ]
     },
     "metadata": {},
     "output_type": "display_data"
    },
    {
     "data": {
      "text/plain": [
       "31"
      ]
     },
     "metadata": {},
     "output_type": "display_data"
    }
   ],
   "source": [
    "#приведение к формату даты значений столбца date и добавление нового столбца с номером месяца\n",
    "rides_go['date']=pd.to_datetime(rides_go['date'], format='%Y.%m.%d')\n",
    "rides_go['month']=rides_go['date'].dt.month\n",
    "#поиск нулевых значений\n",
    "display(users_go.isna().sum())\n",
    "display(rides_go.isna().sum())\n",
    "display(subscriptions_go.isna().sum())\n",
    "#Поиск дубликатов\n",
    "display('Количество явных дубликатов')\n",
    "display(users_go.duplicated().sum()+rides_go.duplicated().sum()+subscriptions_go.duplicated().sum())\n",
    "#Удаление дубликатов\n",
    "users_go = users_go.drop_duplicates()\n",
    "rides_go = rides_go.drop_duplicates()\n",
    "subscriptions_go = subscriptions_go.drop_duplicates()"
   ]
  },
  {
   "cell_type": "markdown",
   "id": "d97fcd10",
   "metadata": {},
   "source": [
    "Вывод: пропуски и нулевые значения в датафреймах отсутствуют, явные дубликаты удалены"
   ]
  },
  {
   "cell_type": "markdown",
   "id": "212593c7",
   "metadata": {},
   "source": [
    "#### Шаг 3. Исследовательский анализ данных"
   ]
  },
  {
   "cell_type": "code",
   "execution_count": 4,
   "id": "e3a4274c",
   "metadata": {},
   "outputs": [
    {
     "data": {
      "text/plain": [
       "'Частота встречаемости городов'"
      ]
     },
     "metadata": {},
     "output_type": "display_data"
    },
    {
     "data": {
      "text/html": [
       "<div>\n",
       "<style scoped>\n",
       "    .dataframe tbody tr th:only-of-type {\n",
       "        vertical-align: middle;\n",
       "    }\n",
       "\n",
       "    .dataframe tbody tr th {\n",
       "        vertical-align: top;\n",
       "    }\n",
       "\n",
       "    .dataframe thead th {\n",
       "        text-align: right;\n",
       "    }\n",
       "</style>\n",
       "<table border=\"1\" class=\"dataframe\">\n",
       "  <thead>\n",
       "    <tr style=\"text-align: right;\">\n",
       "      <th></th>\n",
       "      <th>city</th>\n",
       "      <th>name</th>\n",
       "    </tr>\n",
       "  </thead>\n",
       "  <tbody>\n",
       "    <tr>\n",
       "      <th>4</th>\n",
       "      <td>Пятигорск</td>\n",
       "      <td>219</td>\n",
       "    </tr>\n",
       "    <tr>\n",
       "      <th>0</th>\n",
       "      <td>Екатеринбург</td>\n",
       "      <td>204</td>\n",
       "    </tr>\n",
       "    <tr>\n",
       "      <th>5</th>\n",
       "      <td>Ростов-на-Дону</td>\n",
       "      <td>198</td>\n",
       "    </tr>\n",
       "    <tr>\n",
       "      <th>1</th>\n",
       "      <td>Краснодар</td>\n",
       "      <td>193</td>\n",
       "    </tr>\n",
       "    <tr>\n",
       "      <th>6</th>\n",
       "      <td>Сочи</td>\n",
       "      <td>189</td>\n",
       "    </tr>\n",
       "    <tr>\n",
       "      <th>3</th>\n",
       "      <td>Омск</td>\n",
       "      <td>183</td>\n",
       "    </tr>\n",
       "    <tr>\n",
       "      <th>7</th>\n",
       "      <td>Тюмень</td>\n",
       "      <td>180</td>\n",
       "    </tr>\n",
       "    <tr>\n",
       "      <th>2</th>\n",
       "      <td>Москва</td>\n",
       "      <td>168</td>\n",
       "    </tr>\n",
       "  </tbody>\n",
       "</table>\n",
       "</div>"
      ],
      "text/plain": [
       "             city  name\n",
       "4       Пятигорск   219\n",
       "0    Екатеринбург   204\n",
       "5  Ростов-на-Дону   198\n",
       "1       Краснодар   193\n",
       "6            Сочи   189\n",
       "3            Омск   183\n",
       "7          Тюмень   180\n",
       "2          Москва   168"
      ]
     },
     "metadata": {},
     "output_type": "display_data"
    },
    {
     "data": {
      "text/plain": [
       "'Cоотношение пользователей с подпиской и без подписки'"
      ]
     },
     "metadata": {},
     "output_type": "display_data"
    },
    {
     "data": {
      "text/html": [
       "<div>\n",
       "<style scoped>\n",
       "    .dataframe tbody tr th:only-of-type {\n",
       "        vertical-align: middle;\n",
       "    }\n",
       "\n",
       "    .dataframe tbody tr th {\n",
       "        vertical-align: top;\n",
       "    }\n",
       "\n",
       "    .dataframe thead th {\n",
       "        text-align: right;\n",
       "    }\n",
       "</style>\n",
       "<table border=\"1\" class=\"dataframe\">\n",
       "  <thead>\n",
       "    <tr style=\"text-align: right;\">\n",
       "      <th></th>\n",
       "      <th>subscription_type</th>\n",
       "      <th>users_count</th>\n",
       "    </tr>\n",
       "  </thead>\n",
       "  <tbody>\n",
       "    <tr>\n",
       "      <th>0</th>\n",
       "      <td>free</td>\n",
       "      <td>835</td>\n",
       "    </tr>\n",
       "    <tr>\n",
       "      <th>1</th>\n",
       "      <td>ultra</td>\n",
       "      <td>699</td>\n",
       "    </tr>\n",
       "  </tbody>\n",
       "</table>\n",
       "</div>"
      ],
      "text/plain": [
       "  subscription_type  users_count\n",
       "0              free          835\n",
       "1             ultra          699"
      ]
     },
     "metadata": {},
     "output_type": "display_data"
    },
    {
     "data": {
      "image/png": "[encoded data removed]",
      "text/plain": [
       "<Figure size 360x360 with 1 Axes>"
      ]
     },
     "metadata": {},
     "output_type": "display_data"
    },
    {
     "data": {
      "image/png": "[encoded data removed]",
      "text/plain": [
       "<Figure size 432x288 with 1 Axes>"
      ]
     },
     "metadata": {
      "needs_background": "light"
     },
     "output_type": "display_data"
    },
    {
     "data": {
      "image/png": "[encoded data removed]",
      "text/plain": [
       "<Figure size 432x288 with 1 Axes>"
      ]
     },
     "metadata": {
      "needs_background": "light"
     },
     "output_type": "display_data"
    },
    {
     "data": {
      "image/png": "[encoded data removed]",
      "text/plain": [
       "<Figure size 432x288 with 1 Axes>"
      ]
     },
     "metadata": {
      "needs_background": "light"
     },
     "output_type": "display_data"
    }
   ],
   "source": [
    "users_go_city=users_go.pivot_table(index='city', values='name',aggfunc='count')\n",
    "users_go_city=users_go_city.reset_index()\n",
    "users_go_city=users_go_city.sort_values(by='name', ascending=False)\n",
    "display('Частота встречаемости городов')\n",
    "display(users_go_city)\n",
    "users_go_subscription=users_go.pivot_table(index='subscription_type', values='user_id',aggfunc='count')\n",
    "users_go_subscription=users_go_subscription.reset_index()\n",
    "users_go_subscription=users_go_subscription.sort_values(by='user_id', ascending=False)\n",
    "display('Cоотношение пользователей с подпиской и без подписки')\n",
    "users_go_subscription.columns=['subscription_type','users_count']\n",
    "display(users_go_subscription)\n",
    "users_go_subscription.plot.pie(y='users_count' ,labels=['без подписки','с подпиской'],figsize=(5, 5),autopct='%1.1f%%')\n",
    "users_go.plot(kind='hist', y='age',title='Возраст пользователей', bins=20)\n",
    "rides_go.plot(kind='hist', y='distance',title='Расстояние, которое пользователь преодолел за одну поездку', bins=60)\n",
    "rides_go.plot(kind='hist', y='duration',title='Продолжительность поездок', bins=60)\n",
    "plt.show();"
   ]
  },
  {
   "cell_type": "markdown",
   "id": "afb099a7",
   "metadata": {},
   "source": [
    "Вывод: Частота поездок по городам и подпискам примерно одинакова, что позволяет сопоставлять данные. Средний возраст пользователей 25 лет, расстояние 3000 м, продолжительность 17 минут. Количество пользователей без подписки составляет 54,1 %."
   ]
  },
  {
   "cell_type": "markdown",
   "id": "4ef51331",
   "metadata": {},
   "source": [
    "#### Шаг 4. Объединение данных"
   ]
  },
  {
   "cell_type": "code",
   "execution_count": 5,
   "id": "6bf288b5",
   "metadata": {
    "scrolled": false
   },
   "outputs": [
    {
     "data": {
      "text/plain": [
       "'Размерность rides_go'"
      ]
     },
     "metadata": {},
     "output_type": "display_data"
    },
    {
     "data": {
      "text/plain": [
       "(18068, 5)"
      ]
     },
     "metadata": {},
     "output_type": "display_data"
    },
    {
     "data": {
      "text/plain": [
       "'Размерность users_go'"
      ]
     },
     "metadata": {},
     "output_type": "display_data"
    },
    {
     "data": {
      "text/plain": [
       "(1534, 5)"
      ]
     },
     "metadata": {},
     "output_type": "display_data"
    },
    {
     "data": {
      "text/plain": [
       "'Размерность rides'"
      ]
     },
     "metadata": {},
     "output_type": "display_data"
    },
    {
     "data": {
      "text/plain": [
       "(18068, 12)"
      ]
     },
     "metadata": {},
     "output_type": "display_data"
    },
    {
     "data": {
      "text/plain": [
       "user_id              0\n",
       "distance             0\n",
       "duration             0\n",
       "date                 0\n",
       "month                0\n",
       "name                 0\n",
       "age                  0\n",
       "city                 0\n",
       "subscription_type    0\n",
       "minute_price         0\n",
       "start_ride_price     0\n",
       "subscription_fee     0\n",
       "dtype: int64"
      ]
     },
     "metadata": {},
     "output_type": "display_data"
    },
    {
     "data": {
      "text/html": [
       "<div>\n",
       "<style scoped>\n",
       "    .dataframe tbody tr th:only-of-type {\n",
       "        vertical-align: middle;\n",
       "    }\n",
       "\n",
       "    .dataframe tbody tr th {\n",
       "        vertical-align: top;\n",
       "    }\n",
       "\n",
       "    .dataframe thead th {\n",
       "        text-align: right;\n",
       "    }\n",
       "</style>\n",
       "<table border=\"1\" class=\"dataframe\">\n",
       "  <thead>\n",
       "    <tr style=\"text-align: right;\">\n",
       "      <th></th>\n",
       "      <th>user_id</th>\n",
       "      <th>distance</th>\n",
       "      <th>duration</th>\n",
       "      <th>date</th>\n",
       "      <th>month</th>\n",
       "      <th>name</th>\n",
       "      <th>age</th>\n",
       "      <th>city</th>\n",
       "      <th>subscription_type</th>\n",
       "      <th>minute_price</th>\n",
       "      <th>start_ride_price</th>\n",
       "      <th>subscription_fee</th>\n",
       "    </tr>\n",
       "  </thead>\n",
       "  <tbody>\n",
       "    <tr>\n",
       "      <th>0</th>\n",
       "      <td>1</td>\n",
       "      <td>4409.919140</td>\n",
       "      <td>25.599769</td>\n",
       "      <td>2021-01-01</td>\n",
       "      <td>1</td>\n",
       "      <td>Кира</td>\n",
       "      <td>22</td>\n",
       "      <td>Тюмень</td>\n",
       "      <td>ultra</td>\n",
       "      <td>6</td>\n",
       "      <td>0</td>\n",
       "      <td>199</td>\n",
       "    </tr>\n",
       "    <tr>\n",
       "      <th>1</th>\n",
       "      <td>1</td>\n",
       "      <td>2617.592153</td>\n",
       "      <td>15.816871</td>\n",
       "      <td>2021-01-18</td>\n",
       "      <td>1</td>\n",
       "      <td>Кира</td>\n",
       "      <td>22</td>\n",
       "      <td>Тюмень</td>\n",
       "      <td>ultra</td>\n",
       "      <td>6</td>\n",
       "      <td>0</td>\n",
       "      <td>199</td>\n",
       "    </tr>\n",
       "    <tr>\n",
       "      <th>2</th>\n",
       "      <td>1</td>\n",
       "      <td>754.159807</td>\n",
       "      <td>6.232113</td>\n",
       "      <td>2021-04-20</td>\n",
       "      <td>4</td>\n",
       "      <td>Кира</td>\n",
       "      <td>22</td>\n",
       "      <td>Тюмень</td>\n",
       "      <td>ultra</td>\n",
       "      <td>6</td>\n",
       "      <td>0</td>\n",
       "      <td>199</td>\n",
       "    </tr>\n",
       "    <tr>\n",
       "      <th>3</th>\n",
       "      <td>1</td>\n",
       "      <td>2694.783254</td>\n",
       "      <td>18.511000</td>\n",
       "      <td>2021-08-11</td>\n",
       "      <td>8</td>\n",
       "      <td>Кира</td>\n",
       "      <td>22</td>\n",
       "      <td>Тюмень</td>\n",
       "      <td>ultra</td>\n",
       "      <td>6</td>\n",
       "      <td>0</td>\n",
       "      <td>199</td>\n",
       "    </tr>\n",
       "    <tr>\n",
       "      <th>4</th>\n",
       "      <td>1</td>\n",
       "      <td>4028.687306</td>\n",
       "      <td>26.265803</td>\n",
       "      <td>2021-08-28</td>\n",
       "      <td>8</td>\n",
       "      <td>Кира</td>\n",
       "      <td>22</td>\n",
       "      <td>Тюмень</td>\n",
       "      <td>ultra</td>\n",
       "      <td>6</td>\n",
       "      <td>0</td>\n",
       "      <td>199</td>\n",
       "    </tr>\n",
       "  </tbody>\n",
       "</table>\n",
       "</div>"
      ],
      "text/plain": [
       "   user_id     distance   duration       date  month  name  age    city  \\\n",
       "0        1  4409.919140  25.599769 2021-01-01      1  Кира   22  Тюмень   \n",
       "1        1  2617.592153  15.816871 2021-01-18      1  Кира   22  Тюмень   \n",
       "2        1   754.159807   6.232113 2021-04-20      4  Кира   22  Тюмень   \n",
       "3        1  2694.783254  18.511000 2021-08-11      8  Кира   22  Тюмень   \n",
       "4        1  4028.687306  26.265803 2021-08-28      8  Кира   22  Тюмень   \n",
       "\n",
       "  subscription_type  minute_price  start_ride_price  subscription_fee  \n",
       "0             ultra             6                 0               199  \n",
       "1             ultra             6                 0               199  \n",
       "2             ultra             6                 0               199  \n",
       "3             ultra             6                 0               199  \n",
       "4             ultra             6                 0               199  "
      ]
     },
     "metadata": {},
     "output_type": "display_data"
    },
    {
     "data": {
      "text/html": [
       "<div>\n",
       "<style scoped>\n",
       "    .dataframe tbody tr th:only-of-type {\n",
       "        vertical-align: middle;\n",
       "    }\n",
       "\n",
       "    .dataframe tbody tr th {\n",
       "        vertical-align: top;\n",
       "    }\n",
       "\n",
       "    .dataframe thead th {\n",
       "        text-align: right;\n",
       "    }\n",
       "</style>\n",
       "<table border=\"1\" class=\"dataframe\">\n",
       "  <thead>\n",
       "    <tr style=\"text-align: right;\">\n",
       "      <th></th>\n",
       "      <th>user_id</th>\n",
       "      <th>distance</th>\n",
       "      <th>duration</th>\n",
       "      <th>date</th>\n",
       "      <th>month</th>\n",
       "      <th>name</th>\n",
       "      <th>age</th>\n",
       "      <th>city</th>\n",
       "      <th>subscription_type</th>\n",
       "      <th>minute_price</th>\n",
       "      <th>start_ride_price</th>\n",
       "      <th>subscription_fee</th>\n",
       "    </tr>\n",
       "  </thead>\n",
       "  <tbody>\n",
       "    <tr>\n",
       "      <th>6500</th>\n",
       "      <td>700</td>\n",
       "      <td>2515.690719</td>\n",
       "      <td>14.944286</td>\n",
       "      <td>2021-01-02</td>\n",
       "      <td>1</td>\n",
       "      <td>Айдар</td>\n",
       "      <td>22</td>\n",
       "      <td>Омск</td>\n",
       "      <td>free</td>\n",
       "      <td>8</td>\n",
       "      <td>50</td>\n",
       "      <td>0</td>\n",
       "    </tr>\n",
       "    <tr>\n",
       "      <th>6501</th>\n",
       "      <td>700</td>\n",
       "      <td>846.932642</td>\n",
       "      <td>16.234663</td>\n",
       "      <td>2021-02-01</td>\n",
       "      <td>2</td>\n",
       "      <td>Айдар</td>\n",
       "      <td>22</td>\n",
       "      <td>Омск</td>\n",
       "      <td>free</td>\n",
       "      <td>8</td>\n",
       "      <td>50</td>\n",
       "      <td>0</td>\n",
       "    </tr>\n",
       "    <tr>\n",
       "      <th>6502</th>\n",
       "      <td>700</td>\n",
       "      <td>4004.434142</td>\n",
       "      <td>20.016628</td>\n",
       "      <td>2021-02-04</td>\n",
       "      <td>2</td>\n",
       "      <td>Айдар</td>\n",
       "      <td>22</td>\n",
       "      <td>Омск</td>\n",
       "      <td>free</td>\n",
       "      <td>8</td>\n",
       "      <td>50</td>\n",
       "      <td>0</td>\n",
       "    </tr>\n",
       "    <tr>\n",
       "      <th>6503</th>\n",
       "      <td>700</td>\n",
       "      <td>1205.911290</td>\n",
       "      <td>9.782872</td>\n",
       "      <td>2021-02-10</td>\n",
       "      <td>2</td>\n",
       "      <td>Айдар</td>\n",
       "      <td>22</td>\n",
       "      <td>Омск</td>\n",
       "      <td>free</td>\n",
       "      <td>8</td>\n",
       "      <td>50</td>\n",
       "      <td>0</td>\n",
       "    </tr>\n",
       "    <tr>\n",
       "      <th>6504</th>\n",
       "      <td>700</td>\n",
       "      <td>3047.379435</td>\n",
       "      <td>17.427673</td>\n",
       "      <td>2021-02-14</td>\n",
       "      <td>2</td>\n",
       "      <td>Айдар</td>\n",
       "      <td>22</td>\n",
       "      <td>Омск</td>\n",
       "      <td>free</td>\n",
       "      <td>8</td>\n",
       "      <td>50</td>\n",
       "      <td>0</td>\n",
       "    </tr>\n",
       "  </tbody>\n",
       "</table>\n",
       "</div>"
      ],
      "text/plain": [
       "      user_id     distance   duration       date  month   name  age  city  \\\n",
       "6500      700  2515.690719  14.944286 2021-01-02      1  Айдар   22  Омск   \n",
       "6501      700   846.932642  16.234663 2021-02-01      2  Айдар   22  Омск   \n",
       "6502      700  4004.434142  20.016628 2021-02-04      2  Айдар   22  Омск   \n",
       "6503      700  1205.911290   9.782872 2021-02-10      2  Айдар   22  Омск   \n",
       "6504      700  3047.379435  17.427673 2021-02-14      2  Айдар   22  Омск   \n",
       "\n",
       "     subscription_type  minute_price  start_ride_price  subscription_fee  \n",
       "6500              free             8                50                 0  \n",
       "6501              free             8                50                 0  \n",
       "6502              free             8                50                 0  \n",
       "6503              free             8                50                 0  \n",
       "6504              free             8                50                 0  "
      ]
     },
     "metadata": {},
     "output_type": "display_data"
    },
    {
     "data": {
      "text/html": [
       "<div>\n",
       "<style scoped>\n",
       "    .dataframe tbody tr th:only-of-type {\n",
       "        vertical-align: middle;\n",
       "    }\n",
       "\n",
       "    .dataframe tbody tr th {\n",
       "        vertical-align: top;\n",
       "    }\n",
       "\n",
       "    .dataframe thead th {\n",
       "        text-align: right;\n",
       "    }\n",
       "</style>\n",
       "<table border=\"1\" class=\"dataframe\">\n",
       "  <thead>\n",
       "    <tr style=\"text-align: right;\">\n",
       "      <th></th>\n",
       "      <th>user_id</th>\n",
       "      <th>distance</th>\n",
       "      <th>duration</th>\n",
       "      <th>date</th>\n",
       "      <th>month</th>\n",
       "      <th>name</th>\n",
       "      <th>age</th>\n",
       "      <th>city</th>\n",
       "      <th>subscription_type</th>\n",
       "      <th>minute_price</th>\n",
       "      <th>start_ride_price</th>\n",
       "      <th>subscription_fee</th>\n",
       "    </tr>\n",
       "  </thead>\n",
       "  <tbody>\n",
       "    <tr>\n",
       "      <th>0</th>\n",
       "      <td>1</td>\n",
       "      <td>4409.919140</td>\n",
       "      <td>25.599769</td>\n",
       "      <td>2021-01-01</td>\n",
       "      <td>1</td>\n",
       "      <td>Кира</td>\n",
       "      <td>22</td>\n",
       "      <td>Тюмень</td>\n",
       "      <td>ultra</td>\n",
       "      <td>6</td>\n",
       "      <td>0</td>\n",
       "      <td>199</td>\n",
       "    </tr>\n",
       "    <tr>\n",
       "      <th>1</th>\n",
       "      <td>1</td>\n",
       "      <td>2617.592153</td>\n",
       "      <td>15.816871</td>\n",
       "      <td>2021-01-18</td>\n",
       "      <td>1</td>\n",
       "      <td>Кира</td>\n",
       "      <td>22</td>\n",
       "      <td>Тюмень</td>\n",
       "      <td>ultra</td>\n",
       "      <td>6</td>\n",
       "      <td>0</td>\n",
       "      <td>199</td>\n",
       "    </tr>\n",
       "    <tr>\n",
       "      <th>2</th>\n",
       "      <td>1</td>\n",
       "      <td>754.159807</td>\n",
       "      <td>6.232113</td>\n",
       "      <td>2021-04-20</td>\n",
       "      <td>4</td>\n",
       "      <td>Кира</td>\n",
       "      <td>22</td>\n",
       "      <td>Тюмень</td>\n",
       "      <td>ultra</td>\n",
       "      <td>6</td>\n",
       "      <td>0</td>\n",
       "      <td>199</td>\n",
       "    </tr>\n",
       "    <tr>\n",
       "      <th>3</th>\n",
       "      <td>1</td>\n",
       "      <td>2694.783254</td>\n",
       "      <td>18.511000</td>\n",
       "      <td>2021-08-11</td>\n",
       "      <td>8</td>\n",
       "      <td>Кира</td>\n",
       "      <td>22</td>\n",
       "      <td>Тюмень</td>\n",
       "      <td>ultra</td>\n",
       "      <td>6</td>\n",
       "      <td>0</td>\n",
       "      <td>199</td>\n",
       "    </tr>\n",
       "    <tr>\n",
       "      <th>4</th>\n",
       "      <td>1</td>\n",
       "      <td>4028.687306</td>\n",
       "      <td>26.265803</td>\n",
       "      <td>2021-08-28</td>\n",
       "      <td>8</td>\n",
       "      <td>Кира</td>\n",
       "      <td>22</td>\n",
       "      <td>Тюмень</td>\n",
       "      <td>ultra</td>\n",
       "      <td>6</td>\n",
       "      <td>0</td>\n",
       "      <td>199</td>\n",
       "    </tr>\n",
       "  </tbody>\n",
       "</table>\n",
       "</div>"
      ],
      "text/plain": [
       "   user_id     distance   duration       date  month  name  age    city  \\\n",
       "0        1  4409.919140  25.599769 2021-01-01      1  Кира   22  Тюмень   \n",
       "1        1  2617.592153  15.816871 2021-01-18      1  Кира   22  Тюмень   \n",
       "2        1   754.159807   6.232113 2021-04-20      4  Кира   22  Тюмень   \n",
       "3        1  2694.783254  18.511000 2021-08-11      8  Кира   22  Тюмень   \n",
       "4        1  4028.687306  26.265803 2021-08-28      8  Кира   22  Тюмень   \n",
       "\n",
       "  subscription_type  minute_price  start_ride_price  subscription_fee  \n",
       "0             ultra             6                 0               199  \n",
       "1             ultra             6                 0               199  \n",
       "2             ultra             6                 0               199  \n",
       "3             ultra             6                 0               199  \n",
       "4             ultra             6                 0               199  "
      ]
     },
     "metadata": {},
     "output_type": "display_data"
    },
    {
     "data": {
      "image/png": "[encoded data removed]",
      "text/plain": [
       "<Figure size 432x288 with 1 Axes>"
      ]
     },
     "metadata": {
      "needs_background": "light"
     },
     "output_type": "display_data"
    },
    {
     "data": {
      "image/png": "[encoded data removed]",
      "text/plain": [
       "<Figure size 432x288 with 1 Axes>"
      ]
     },
     "metadata": {
      "needs_background": "light"
     },
     "output_type": "display_data"
    },
    {
     "data": {
      "image/png": "[encoded data removed]",
      "text/plain": [
       "<Figure size 432x288 with 1 Axes>"
      ]
     },
     "metadata": {
      "needs_background": "light"
     },
     "output_type": "display_data"
    },
    {
     "data": {
      "image/png": "[encoded data removed]",
      "text/plain": [
       "<Figure size 432x288 with 1 Axes>"
      ]
     },
     "metadata": {
      "needs_background": "light"
     },
     "output_type": "display_data"
    }
   ],
   "source": [
    "#объединение в один датафрейм rides\n",
    "display('Размерность rides_go',rides_go.shape)\n",
    "display('Размерность users_go',users_go.shape)\n",
    "rides=rides_go.merge(users_go, on='user_id', how='left')\n",
    "rides=rides.merge(subscriptions_go, on='subscription_type', how='left')\n",
    "display('Размерность rides',rides.shape)\n",
    "#поиск нулевых значений\n",
    "display(rides.isna().sum())\n",
    "#создание датафреймов с данными о пользователях с подпиской и без\n",
    "rides_free=rides.query('subscription_type==\"free\"')\n",
    "rides_ultra=rides.query('subscription_type==\"ultra\"')\n",
    "rides_free.plot(kind='hist', y='duration',title='Время поездки (free)', bins=20)\n",
    "rides_free.plot(kind='hist', y='distance',title='Расстояние (free)', bins=20)\n",
    "rides_ultra.plot(kind='hist', y='duration',title='Время поездки (ultra)', bins=20)\n",
    "rides_ultra.plot(kind='hist', y='distance',title='Расстояние (ultra)', bins=20)\n",
    "#вывод заголовков созданных датасетов\n",
    "display(rides.head(5))\n",
    "display(rides_free.head(5))\n",
    "display(rides_ultra.head(5))\n",
    "plt.show();"
   ]
  },
  {
   "cell_type": "markdown",
   "id": "bc7b57cd",
   "metadata": {},
   "source": [
    "Вывод: среднее время поездки и расстояние для пользователей с платной подпиской и без составляет 17 минут, 3000 метров сооветственно"
   ]
  },
  {
   "cell_type": "markdown",
   "id": "402d620f",
   "metadata": {},
   "source": [
    "#### Шаг 5. Подсчёт выручки"
   ]
  },
  {
   "cell_type": "code",
   "execution_count": 6,
   "id": "53049e0a",
   "metadata": {},
   "outputs": [
    {
     "data": {
      "text/plain": [
       "user_id              0\n",
       "month                0\n",
       "distance             0\n",
       "duration             0\n",
       "rides_count          0\n",
       "subscription_type    0\n",
       "minute_price         0\n",
       "start_ride_price     0\n",
       "subscription_fee     0\n",
       "dtype: int64"
      ]
     },
     "metadata": {},
     "output_type": "display_data"
    },
    {
     "data": {
      "text/html": [
       "<div>\n",
       "<style scoped>\n",
       "    .dataframe tbody tr th:only-of-type {\n",
       "        vertical-align: middle;\n",
       "    }\n",
       "\n",
       "    .dataframe tbody tr th {\n",
       "        vertical-align: top;\n",
       "    }\n",
       "\n",
       "    .dataframe thead th {\n",
       "        text-align: right;\n",
       "    }\n",
       "</style>\n",
       "<table border=\"1\" class=\"dataframe\">\n",
       "  <thead>\n",
       "    <tr style=\"text-align: right;\">\n",
       "      <th></th>\n",
       "      <th>user_id</th>\n",
       "      <th>month</th>\n",
       "      <th>distance</th>\n",
       "      <th>duration</th>\n",
       "      <th>rides_count</th>\n",
       "      <th>subscription_type</th>\n",
       "      <th>minute_price</th>\n",
       "      <th>start_ride_price</th>\n",
       "      <th>subscription_fee</th>\n",
       "      <th>total_price</th>\n",
       "    </tr>\n",
       "  </thead>\n",
       "  <tbody>\n",
       "    <tr>\n",
       "      <th>0</th>\n",
       "      <td>1</td>\n",
       "      <td>1</td>\n",
       "      <td>7027.511294</td>\n",
       "      <td>42.0</td>\n",
       "      <td>12</td>\n",
       "      <td>ultra</td>\n",
       "      <td>6</td>\n",
       "      <td>0</td>\n",
       "      <td>199</td>\n",
       "      <td>451.0</td>\n",
       "    </tr>\n",
       "    <tr>\n",
       "      <th>1</th>\n",
       "      <td>1</td>\n",
       "      <td>4</td>\n",
       "      <td>754.159807</td>\n",
       "      <td>7.0</td>\n",
       "      <td>12</td>\n",
       "      <td>ultra</td>\n",
       "      <td>6</td>\n",
       "      <td>0</td>\n",
       "      <td>199</td>\n",
       "      <td>241.0</td>\n",
       "    </tr>\n",
       "    <tr>\n",
       "      <th>2</th>\n",
       "      <td>1</td>\n",
       "      <td>8</td>\n",
       "      <td>6723.470560</td>\n",
       "      <td>45.0</td>\n",
       "      <td>12</td>\n",
       "      <td>ultra</td>\n",
       "      <td>6</td>\n",
       "      <td>0</td>\n",
       "      <td>199</td>\n",
       "      <td>469.0</td>\n",
       "    </tr>\n",
       "    <tr>\n",
       "      <th>3</th>\n",
       "      <td>1</td>\n",
       "      <td>10</td>\n",
       "      <td>5809.911100</td>\n",
       "      <td>32.0</td>\n",
       "      <td>12</td>\n",
       "      <td>ultra</td>\n",
       "      <td>6</td>\n",
       "      <td>0</td>\n",
       "      <td>199</td>\n",
       "      <td>391.0</td>\n",
       "    </tr>\n",
       "    <tr>\n",
       "      <th>4</th>\n",
       "      <td>1</td>\n",
       "      <td>11</td>\n",
       "      <td>7003.499363</td>\n",
       "      <td>54.0</td>\n",
       "      <td>12</td>\n",
       "      <td>ultra</td>\n",
       "      <td>6</td>\n",
       "      <td>0</td>\n",
       "      <td>199</td>\n",
       "      <td>523.0</td>\n",
       "    </tr>\n",
       "  </tbody>\n",
       "</table>\n",
       "</div>"
      ],
      "text/plain": [
       "   user_id  month     distance  duration  rides_count subscription_type  \\\n",
       "0        1      1  7027.511294      42.0           12             ultra   \n",
       "1        1      4   754.159807       7.0           12             ultra   \n",
       "2        1      8  6723.470560      45.0           12             ultra   \n",
       "3        1     10  5809.911100      32.0           12             ultra   \n",
       "4        1     11  7003.499363      54.0           12             ultra   \n",
       "\n",
       "   minute_price  start_ride_price  subscription_fee  total_price  \n",
       "0             6                 0               199        451.0  \n",
       "1             6                 0               199        241.0  \n",
       "2             6                 0               199        469.0  \n",
       "3             6                 0               199        391.0  \n",
       "4             6                 0               199        523.0  "
      ]
     },
     "metadata": {},
     "output_type": "display_data"
    },
    {
     "data": {
      "text/plain": [
       "<AxesSubplot:title={'center':'Зависимость стоимости поездок от месяца года'}, xlabel='month'>"
      ]
     },
     "execution_count": 6,
     "metadata": {},
     "output_type": "execute_result"
    },
    {
     "data": {
      "image/png": "[encoded data removed]",
      "text/plain": [
       "<Figure size 432x288 with 1 Axes>"
      ]
     },
     "metadata": {
      "needs_background": "light"
     },
     "output_type": "display_data"
    }
   ],
   "source": [
    "#создание датафрейма с данными о пользователях\n",
    "rides_users=rides.pivot_table(index=['user_id','month'], values=['distance', 'duration'], aggfunc='sum')\n",
    "rides_users=rides_users.reset_index()\n",
    "rides_users=rides_users.merge(rides.pivot_table(index='user_id', values='month', aggfunc='count'), on='user_id', how='left')\n",
    "rides_users.columns=['user_id','month','distance','duration','rides_count']\n",
    "rides_users['duration']=round(rides_users['duration'],1)\n",
    "rides_users=rides_users.merge(rides[['user_id','subscription_type','minute_price','start_ride_price','subscription_fee']].drop_duplicates(), on='user_id', how='inner')\n",
    "rides_users['duration'] = np.ceil(rides_users['duration']) \n",
    "#поиск нулевых значений\n",
    "display(rides_users.isna().sum())\n",
    "#расчет выручки\n",
    "rides_users['total_price']=rides_users['start_ride_price']*rides_users['rides_count']+rides_users['minute_price']*rides_users['duration']+rides_users['subscription_fee']\n",
    "display(rides_users.head(5))\n",
    "rides_users.pivot_table(index=['month'], values=['total_price'], aggfunc='sum').plot(y='total_price', style='-o',title='Зависимость стоимости поездок от месяца года')"
   ]
  },
  {
   "cell_type": "markdown",
   "id": "d1e9f5c6",
   "metadata": {},
   "source": [
    "Вывод: Создан датафрейм с агрегированными данными о поездках на основе датафрейма с объединёнными данными из шага 4: найдено суммарное расстояние, количество поездок и суммарное время для каждого пользователя за каждый месяц.\n",
    "В этот же датафрейм добавлен столбец с помесячной выручкой, которую принёс каждый пользователь.\n",
    "Наибольшие траты наблюдаются по графику в летние месяцы. "
   ]
  },
  {
   "cell_type": "markdown",
   "id": "41545ac0",
   "metadata": {},
   "source": [
    "#### Шаг 6. Проверка гипотез"
   ]
  },
  {
   "cell_type": "markdown",
   "id": "f53735c2",
   "metadata": {},
   "source": [
    "6.1\n",
    "\n",
    "Нулевая гипотеза:  Среднее время поездки у пользователей без подписки равно времени пользователей с подпиской.\n",
    "\n",
    "Альтернативная гипотеза: Среднее время поездки у пользователей с подпиской больше, чем у пользователей без подписки."
   ]
  },
  {
   "cell_type": "code",
   "execution_count": 7,
   "id": "23ea867b",
   "metadata": {},
   "outputs": [
    {
     "name": "stdout",
     "output_type": "stream",
     "text": [
      "p-value: 1.2804098316645618e-34\n",
      "Отвергаем нулевую гипотезу\n"
     ]
    }
   ],
   "source": [
    "# задаём уровень значимости\n",
    "alpha = 0.05\n",
    "# проводим ttest для двух выборок, в качестве альтернативной используем одностороннюю гипотезу «больше»\n",
    "results = st.ttest_ind(rides_ultra['duration'],rides_free['duration'], alternative='greater')\n",
    "print(f'p-value: {results.pvalue}')\n",
    "# проверяем p-value\n",
    "if results.pvalue < alpha:\n",
    "    print('Отвергаем нулевую гипотезу')\n",
    "else:\n",
    "    print('Нет оснований отвергнуть нулевую гипотезу')"
   ]
  },
  {
   "cell_type": "markdown",
   "id": "33e3f45c",
   "metadata": {},
   "source": [
    "Вывод: гипотеза неверна. Пользователи без подписки тратят больше времени на поездки, чем пользователи с подпиской"
   ]
  },
  {
   "cell_type": "markdown",
   "id": "c019bec6",
   "metadata": {},
   "source": [
    "6.2\n",
    "\n",
    "Нулевая гипотеза: подписчики в среднем проезжают расстояние в 3130 метров\n",
    "\n",
    "Альтернативная гипотеза: подписчики в среднем проезжают расстояние больше оптимального в 3130 метров"
   ]
  },
  {
   "cell_type": "code",
   "execution_count": 8,
   "id": "6f6860c5",
   "metadata": {},
   "outputs": [
    {
     "name": "stdout",
     "output_type": "stream",
     "text": [
      "p-значение: 3.883541374011314e-278\n",
      "Отвергаем нулевую гипотезу\n"
     ]
    }
   ],
   "source": [
    "optimal_value = 3130\n",
    "\n",
    "alpha = 0.05\n",
    "\n",
    "results = st.ttest_1samp(\n",
    "    rides_users['distance'][rides_users['subscription_type'] == 'ultra'], optimal_value,alternative='greater')\n",
    "\n",
    "print('p-значение:', results.pvalue)\n",
    "\n",
    "if results.pvalue < alpha:\n",
    "    print('Отвергаем нулевую гипотезу')\n",
    "else:\n",
    "    print('Не получилось отвергнуть нулевую гипотезу')"
   ]
  },
  {
   "cell_type": "markdown",
   "id": "5f3d6daa",
   "metadata": {},
   "source": [
    "Вывод: Нулевая гипотеза неверна. Подписчики в среднем проезжают расстояние больше оптимального в 3130 метров"
   ]
  },
  {
   "cell_type": "markdown",
   "id": "ed247090",
   "metadata": {},
   "source": [
    "6.3\n",
    "\n",
    "Нулевая гипотеза: помесячная выручка от пользователей с подпиской по месяцам равна выручке от пользователей без подписки\n",
    "Альтернативная гипотеза:помесячная выручка от пользователей с подпиской по месяцам выше, чем выручка от пользователей без подписки"
   ]
  },
  {
   "cell_type": "code",
   "execution_count": 9,
   "id": "dfeb805f",
   "metadata": {},
   "outputs": [
    {
     "name": "stdout",
     "output_type": "stream",
     "text": [
      "p-value: 1.0\n",
      "Нет оснований отвергнуть нулевую гипотезу\n"
     ]
    }
   ],
   "source": [
    "# задаём уровень значимости\n",
    "alpha = 0.05\n",
    "# проводим ttest для двух выборок, в качестве альтернативной используем одностороннюю гипотезу «больше»\n",
    "results = st.ttest_ind(rides_users.query('subscription_type == \"ultra\"')['total_price'],rides_users.query('subscription_type == \"free\"')['total_price'], alternative='greater')\n",
    "print(f'p-value: {results.pvalue}')\n",
    "# проверяем p-value\n",
    "if results.pvalue < alpha:\n",
    "    print('Отвергаем нулевую гипотезу')\n",
    "else:\n",
    "    print('Нет оснований отвергнуть нулевую гипотезу')"
   ]
  },
  {
   "cell_type": "markdown",
   "id": "d77ca0db",
   "metadata": {},
   "source": [
    "Вывод: гипотеза верна. Помесячная выручка от пользователей с подпиской по месяцам выше, чем выручка от пользователей без подписки "
   ]
  },
  {
   "cell_type": "markdown",
   "id": "eb40f943",
   "metadata": {},
   "source": [
    "6.4"
   ]
  },
  {
   "cell_type": "markdown",
   "id": "fe6d57d3",
   "metadata": {},
   "source": [
    "Лучше подойдет для проверки гипотезы scipy.stats.ttest_rel \n",
    "Аргументы: наборы данных — парные выборки до и после изменения"
   ]
  },
  {
   "cell_type": "markdown",
   "id": "cb637b63",
   "metadata": {},
   "source": [
    "Вывод:пользоватили без подписки тратят больше времени. Расстояние, которое проезжают пользователи с подпиской за одну поездку, не превышает 3130 метров. Помесячная выручка от пользователей с подпиской по месяцам выше, чем выручка от пользователей без подписки."
   ]
  },
  {
   "cell_type": "markdown",
   "id": "24a375d1",
   "metadata": {},
   "source": [
    "# Общий вывод: \n",
    "Были обработаны данные о некоторых пользователях из нескольких городов, а также об их поездках. Проанализированы данные и проверены некоторые гипотезы, которые могут помочь бизнесу вырасти. Чтобы совершать поездки по городу, пользователи сервиса GoFast пользуются мобильным приложением. \n",
    "\n",
    "* Пропуски и нулевые значения в датафреймах отсутствуют, явные дубликаты удалены\n",
    "* Частота поездок по городам и подпискам примерно одинакова, что позволяет сопоставлять данные. Средний возраст пользователей 25 лет, расстояние 3000 м, продолжительность 17 минут. Количество пользователей без подписки составляет 54,1 %\n",
    "* Cреднее время поездки и расстояние для пользователей с платной подпиской и без составляет 17 минут, 3000 метров сооветственно\n",
    "* Создан датафрейм с агрегированными данными о поездках на основе датафрейма с объединёнными данными из шага 4: найдено суммарное расстояние, количество поездок и суммарное время для каждого пользователя за каждый месяц. В этот же датафрейм добавлен столбец с помесячной выручкой, которую принёс каждый пользователь. Наибольшие траты наблюдаются по графику в летние месяцы.\n",
    "\n",
    "\n",
    "Сформулированы и проверены гипотезы, выводы по ним следующие: \n",
    "* пользователи без подписки тратят больше времени на поездки, чем пользователи с подпиской\n",
    "* подписчики в среднем проезжают расстояние больше оптимального в 3130 метров\n",
    "* помесячная выручка от пользователей с подпиской по месяцам выше, чем выручка от пользователей без подписки\n",
    "\n"
   ]
  }
 ],
 "metadata": {
  "ExecuteTimeLog": [
   {
    "duration": 63,
    "start_time": "2023-08-08T05:03:15.882Z"
   },
   {
    "duration": 419,
    "start_time": "2023-08-08T05:03:20.826Z"
   },
   {
    "duration": 260,
    "start_time": "2023-08-08T05:03:31.329Z"
   },
   {
    "duration": 108,
    "start_time": "2023-08-08T05:03:53.191Z"
   },
   {
    "duration": 92,
    "start_time": "2023-08-08T05:04:00.865Z"
   },
   {
    "duration": 4,
    "start_time": "2023-08-08T05:04:20.367Z"
   },
   {
    "duration": 110,
    "start_time": "2023-08-08T05:04:20.374Z"
   },
   {
    "duration": 96,
    "start_time": "2023-08-08T05:04:37.187Z"
   },
   {
    "duration": 105,
    "start_time": "2023-08-08T05:04:51.776Z"
   },
   {
    "duration": 48,
    "start_time": "2023-08-08T05:13:15.191Z"
   },
   {
    "duration": 17,
    "start_time": "2023-08-08T05:14:35.852Z"
   },
   {
    "duration": 22,
    "start_time": "2023-08-08T05:23:46.941Z"
   },
   {
    "duration": 39,
    "start_time": "2023-08-08T05:23:56.890Z"
   },
   {
    "duration": 14,
    "start_time": "2023-08-08T05:24:06.616Z"
   },
   {
    "duration": 15,
    "start_time": "2023-08-08T05:24:20.528Z"
   },
   {
    "duration": 859,
    "start_time": "2023-08-08T05:25:18.991Z"
   },
   {
    "duration": 911,
    "start_time": "2023-08-08T05:26:02.524Z"
   },
   {
    "duration": 21,
    "start_time": "2023-08-08T05:26:30.941Z"
   },
   {
    "duration": 62,
    "start_time": "2023-08-08T05:29:16.876Z"
   },
   {
    "duration": 18,
    "start_time": "2023-08-08T05:29:28.463Z"
   },
   {
    "duration": 22,
    "start_time": "2023-08-08T05:29:34.733Z"
   },
   {
    "duration": 32,
    "start_time": "2023-08-08T05:30:46.330Z"
   },
   {
    "duration": 28,
    "start_time": "2023-08-08T05:31:39.922Z"
   },
   {
    "duration": 529,
    "start_time": "2023-08-08T05:37:54.407Z"
   },
   {
    "duration": 21,
    "start_time": "2023-08-08T05:40:03.819Z"
   },
   {
    "duration": 27,
    "start_time": "2023-08-08T05:40:18.792Z"
   },
   {
    "duration": 17,
    "start_time": "2023-08-08T05:40:58.582Z"
   },
   {
    "duration": 25,
    "start_time": "2023-08-08T05:42:19.081Z"
   },
   {
    "duration": 16,
    "start_time": "2023-08-08T05:42:30.531Z"
   },
   {
    "duration": 13,
    "start_time": "2023-08-08T05:42:41.060Z"
   },
   {
    "duration": 15,
    "start_time": "2023-08-08T05:42:52.366Z"
   },
   {
    "duration": 17,
    "start_time": "2023-08-08T05:42:58.533Z"
   },
   {
    "duration": 18,
    "start_time": "2023-08-08T05:43:36.523Z"
   },
   {
    "duration": 18,
    "start_time": "2023-08-08T05:43:47.738Z"
   },
   {
    "duration": 26,
    "start_time": "2023-08-08T05:45:42.429Z"
   },
   {
    "duration": 19,
    "start_time": "2023-08-08T05:46:11.445Z"
   },
   {
    "duration": 37,
    "start_time": "2023-08-08T05:46:16.984Z"
   },
   {
    "duration": 26,
    "start_time": "2023-08-08T05:46:25.117Z"
   },
   {
    "duration": 28,
    "start_time": "2023-08-08T05:46:27.546Z"
   },
   {
    "duration": 224,
    "start_time": "2023-08-08T05:50:47.947Z"
   },
   {
    "duration": 198,
    "start_time": "2023-08-08T05:51:24.482Z"
   },
   {
    "duration": 398,
    "start_time": "2023-08-08T05:52:21.521Z"
   },
   {
    "duration": 486,
    "start_time": "2023-08-08T05:52:39.171Z"
   },
   {
    "duration": 796,
    "start_time": "2023-08-08T05:53:29.126Z"
   },
   {
    "duration": 26,
    "start_time": "2023-08-08T05:59:28.565Z"
   },
   {
    "duration": 19,
    "start_time": "2023-08-08T05:59:38.690Z"
   },
   {
    "duration": 23,
    "start_time": "2023-08-08T05:59:45.859Z"
   },
   {
    "duration": 21,
    "start_time": "2023-08-08T05:59:58.648Z"
   },
   {
    "duration": 46,
    "start_time": "2023-08-08T06:00:08.456Z"
   },
   {
    "duration": 16,
    "start_time": "2023-08-08T06:00:53.633Z"
   },
   {
    "duration": 20,
    "start_time": "2023-08-08T06:01:11.418Z"
   },
   {
    "duration": 746,
    "start_time": "2023-08-08T06:01:22.202Z"
   },
   {
    "duration": 37,
    "start_time": "2023-08-08T06:01:26.891Z"
   },
   {
    "duration": 49,
    "start_time": "2023-08-08T11:00:12.297Z"
   },
   {
    "duration": 394,
    "start_time": "2023-08-08T11:00:21.670Z"
   },
   {
    "duration": 234,
    "start_time": "2023-08-08T11:00:22.066Z"
   },
   {
    "duration": 21,
    "start_time": "2023-08-08T11:00:22.301Z"
   },
   {
    "duration": 1192,
    "start_time": "2023-08-08T11:00:22.324Z"
   },
   {
    "duration": 106,
    "start_time": "2023-08-08T11:00:23.519Z"
   },
   {
    "duration": 40,
    "start_time": "2023-08-08T11:03:19.685Z"
   },
   {
    "duration": 36,
    "start_time": "2023-08-08T11:03:36.772Z"
   },
   {
    "duration": 29,
    "start_time": "2023-08-08T11:03:43.066Z"
   },
   {
    "duration": 4,
    "start_time": "2023-08-08T11:03:54.222Z"
   },
   {
    "duration": 148,
    "start_time": "2023-08-08T11:03:54.228Z"
   },
   {
    "duration": 26,
    "start_time": "2023-08-08T11:03:54.378Z"
   },
   {
    "duration": 740,
    "start_time": "2023-08-08T11:03:54.406Z"
   },
   {
    "duration": 29,
    "start_time": "2023-08-08T11:03:55.147Z"
   },
   {
    "duration": 38,
    "start_time": "2023-08-08T11:04:21.971Z"
   },
   {
    "duration": 35,
    "start_time": "2023-08-08T11:04:29.193Z"
   },
   {
    "duration": 400,
    "start_time": "2023-08-08T11:06:59.924Z"
   },
   {
    "duration": 769,
    "start_time": "2023-08-08T11:08:02.255Z"
   },
   {
    "duration": 18,
    "start_time": "2023-08-08T11:11:23.814Z"
   },
   {
    "duration": 54,
    "start_time": "2023-08-08T11:16:58.607Z"
   },
   {
    "duration": 17,
    "start_time": "2023-08-08T11:17:50.539Z"
   },
   {
    "duration": 26,
    "start_time": "2023-08-08T11:18:03.482Z"
   },
   {
    "duration": 16,
    "start_time": "2023-08-08T11:25:07.928Z"
   },
   {
    "duration": 16,
    "start_time": "2023-08-08T11:25:17.560Z"
   },
   {
    "duration": 100,
    "start_time": "2023-08-08T11:25:28.089Z"
   },
   {
    "duration": 25,
    "start_time": "2023-08-08T11:25:36.812Z"
   },
   {
    "duration": 20,
    "start_time": "2023-08-08T11:25:57.949Z"
   },
   {
    "duration": 18,
    "start_time": "2023-08-08T11:26:34.232Z"
   },
   {
    "duration": 25,
    "start_time": "2023-08-08T11:27:25.557Z"
   },
   {
    "duration": 26,
    "start_time": "2023-08-08T11:54:20.887Z"
   },
   {
    "duration": 241,
    "start_time": "2023-08-08T11:56:59.667Z"
   },
   {
    "duration": 26,
    "start_time": "2023-08-08T11:57:06.575Z"
   },
   {
    "duration": 48,
    "start_time": "2023-08-09T04:31:37.318Z"
   },
   {
    "duration": 440,
    "start_time": "2023-08-09T04:31:49.034Z"
   },
   {
    "duration": 223,
    "start_time": "2023-08-09T04:31:49.475Z"
   },
   {
    "duration": 22,
    "start_time": "2023-08-09T04:31:49.700Z"
   },
   {
    "duration": 966,
    "start_time": "2023-08-09T04:31:49.724Z"
   },
   {
    "duration": 645,
    "start_time": "2023-08-09T04:31:50.692Z"
   },
   {
    "duration": 22,
    "start_time": "2023-08-09T04:31:51.339Z"
   },
   {
    "duration": 21,
    "start_time": "2023-08-09T04:32:31.001Z"
   },
   {
    "duration": 21,
    "start_time": "2023-08-09T04:33:19.998Z"
   },
   {
    "duration": 23,
    "start_time": "2023-08-09T04:33:40.047Z"
   },
   {
    "duration": 22,
    "start_time": "2023-08-09T04:33:52.158Z"
   },
   {
    "duration": 21,
    "start_time": "2023-08-09T04:33:58.732Z"
   },
   {
    "duration": 21,
    "start_time": "2023-08-09T04:34:11.377Z"
   },
   {
    "duration": 26,
    "start_time": "2023-08-09T04:34:22.069Z"
   },
   {
    "duration": 26,
    "start_time": "2023-08-09T04:34:29.130Z"
   },
   {
    "duration": 21,
    "start_time": "2023-08-09T04:34:35.054Z"
   },
   {
    "duration": 20,
    "start_time": "2023-08-09T04:34:44.961Z"
   },
   {
    "duration": 31,
    "start_time": "2023-08-09T04:34:48.546Z"
   },
   {
    "duration": 22,
    "start_time": "2023-08-09T04:35:02.093Z"
   },
   {
    "duration": 50,
    "start_time": "2023-08-09T04:36:43.092Z"
   },
   {
    "duration": 452,
    "start_time": "2023-08-09T04:36:49.739Z"
   },
   {
    "duration": 16,
    "start_time": "2023-08-09T04:37:13.957Z"
   },
   {
    "duration": 23,
    "start_time": "2023-08-09T04:37:21.340Z"
   },
   {
    "duration": 23,
    "start_time": "2023-08-09T04:37:37.552Z"
   },
   {
    "duration": 23,
    "start_time": "2023-08-09T04:37:46.092Z"
   },
   {
    "duration": 17,
    "start_time": "2023-08-09T04:41:11.754Z"
   },
   {
    "duration": 23,
    "start_time": "2023-08-09T04:41:17.277Z"
   },
   {
    "duration": 23,
    "start_time": "2023-08-09T04:45:45.758Z"
   },
   {
    "duration": 40,
    "start_time": "2023-08-09T04:45:51.066Z"
   },
   {
    "duration": 2087,
    "start_time": "2023-08-09T04:46:55.624Z"
   },
   {
    "duration": 28,
    "start_time": "2023-08-09T04:47:45.693Z"
   },
   {
    "duration": 31,
    "start_time": "2023-08-09T04:48:34.182Z"
   },
   {
    "duration": 2806,
    "start_time": "2023-08-09T04:50:06.065Z"
   },
   {
    "duration": 2266,
    "start_time": "2023-08-09T04:50:16.798Z"
   },
   {
    "duration": 2,
    "start_time": "2023-08-09T04:50:20.716Z"
   },
   {
    "duration": 104,
    "start_time": "2023-08-09T04:50:20.720Z"
   },
   {
    "duration": 40,
    "start_time": "2023-08-09T04:50:20.826Z"
   },
   {
    "duration": 608,
    "start_time": "2023-08-09T04:50:20.868Z"
   },
   {
    "duration": 638,
    "start_time": "2023-08-09T04:50:21.478Z"
   },
   {
    "duration": 2609,
    "start_time": "2023-08-09T04:50:22.118Z"
   },
   {
    "duration": 2584,
    "start_time": "2023-08-09T04:51:04.780Z"
   },
   {
    "duration": 24,
    "start_time": "2023-08-09T04:51:18.779Z"
   },
   {
    "duration": 41,
    "start_time": "2023-08-09T04:51:25.419Z"
   },
   {
    "duration": 50,
    "start_time": "2023-08-09T04:51:55.737Z"
   },
   {
    "duration": 34,
    "start_time": "2023-08-09T04:52:00.665Z"
   },
   {
    "duration": 5,
    "start_time": "2023-08-09T04:52:05.060Z"
   },
   {
    "duration": 134,
    "start_time": "2023-08-09T04:52:05.069Z"
   },
   {
    "duration": 15,
    "start_time": "2023-08-09T04:52:05.204Z"
   },
   {
    "duration": 708,
    "start_time": "2023-08-09T04:52:05.221Z"
   },
   {
    "duration": 660,
    "start_time": "2023-08-09T04:52:05.931Z"
   },
   {
    "duration": 31,
    "start_time": "2023-08-09T04:52:06.593Z"
   },
   {
    "duration": 531,
    "start_time": "2023-08-09T04:52:51.287Z"
   },
   {
    "duration": 36,
    "start_time": "2023-08-09T04:52:55.780Z"
   },
   {
    "duration": 9,
    "start_time": "2023-08-09T04:53:27.205Z"
   },
   {
    "duration": 19,
    "start_time": "2023-08-09T04:53:32.995Z"
   },
   {
    "duration": 59,
    "start_time": "2023-08-09T04:53:37.909Z"
   },
   {
    "duration": 33,
    "start_time": "2023-08-09T04:53:41.682Z"
   },
   {
    "duration": 27,
    "start_time": "2023-08-09T04:53:45.873Z"
   },
   {
    "duration": 48,
    "start_time": "2023-08-09T04:53:50.306Z"
   },
   {
    "duration": 32,
    "start_time": "2023-08-09T04:53:53.867Z"
   },
   {
    "duration": 44,
    "start_time": "2023-08-09T04:54:00.119Z"
   },
   {
    "duration": 30,
    "start_time": "2023-08-09T04:54:19.365Z"
   },
   {
    "duration": 36,
    "start_time": "2023-08-09T04:54:33.032Z"
   },
   {
    "duration": 33,
    "start_time": "2023-08-09T04:54:40.401Z"
   },
   {
    "duration": 37,
    "start_time": "2023-08-09T04:55:11.169Z"
   },
   {
    "duration": 40,
    "start_time": "2023-08-09T04:55:16.737Z"
   },
   {
    "duration": 44,
    "start_time": "2023-08-09T04:55:27.065Z"
   },
   {
    "duration": 40,
    "start_time": "2023-08-09T04:55:40.588Z"
   },
   {
    "duration": 654,
    "start_time": "2023-08-09T04:55:48.972Z"
   },
   {
    "duration": 714,
    "start_time": "2023-08-09T04:55:54.298Z"
   },
   {
    "duration": 807,
    "start_time": "2023-08-09T04:56:12.098Z"
   },
   {
    "duration": 931,
    "start_time": "2023-08-09T04:56:29.700Z"
   },
   {
    "duration": 53,
    "start_time": "2023-08-09T04:57:25.127Z"
   },
   {
    "duration": 40,
    "start_time": "2023-08-09T04:57:33.575Z"
   },
   {
    "duration": 22,
    "start_time": "2023-08-09T04:57:40.685Z"
   },
   {
    "duration": 33,
    "start_time": "2023-08-09T04:58:31.269Z"
   },
   {
    "duration": 22,
    "start_time": "2023-08-09T04:59:32.712Z"
   },
   {
    "duration": 33,
    "start_time": "2023-08-09T04:59:49.665Z"
   },
   {
    "duration": 45,
    "start_time": "2023-08-09T05:00:02.310Z"
   },
   {
    "duration": 39,
    "start_time": "2023-08-09T05:01:23.128Z"
   },
   {
    "duration": 31,
    "start_time": "2023-08-09T05:01:30.606Z"
   },
   {
    "duration": 63,
    "start_time": "2023-08-09T05:02:51.603Z"
   },
   {
    "duration": 36,
    "start_time": "2023-08-09T05:03:40.086Z"
   },
   {
    "duration": 37,
    "start_time": "2023-08-09T05:05:58.978Z"
   },
   {
    "duration": 2309,
    "start_time": "2023-08-09T05:06:13.510Z"
   },
   {
    "duration": 33,
    "start_time": "2023-08-09T05:06:26.966Z"
   },
   {
    "duration": 33,
    "start_time": "2023-08-09T05:06:46.198Z"
   },
   {
    "duration": 28,
    "start_time": "2023-08-09T05:06:58.170Z"
   },
   {
    "duration": 37,
    "start_time": "2023-08-09T05:08:09.564Z"
   },
   {
    "duration": 24,
    "start_time": "2023-08-09T05:08:20.008Z"
   },
   {
    "duration": 24,
    "start_time": "2023-08-09T05:08:26.476Z"
   },
   {
    "duration": 20,
    "start_time": "2023-08-09T05:09:46.290Z"
   },
   {
    "duration": 55,
    "start_time": "2023-08-09T05:09:58.133Z"
   },
   {
    "duration": 41,
    "start_time": "2023-08-09T05:10:03.265Z"
   },
   {
    "duration": 63,
    "start_time": "2023-08-09T05:10:16.837Z"
   },
   {
    "duration": 42,
    "start_time": "2023-08-09T05:10:21.199Z"
   },
   {
    "duration": 54,
    "start_time": "2023-08-09T05:10:25.177Z"
   },
   {
    "duration": 56,
    "start_time": "2023-08-09T05:10:29.823Z"
   },
   {
    "duration": 49,
    "start_time": "2023-08-09T05:10:33.565Z"
   },
   {
    "duration": 3,
    "start_time": "2023-08-09T05:43:50.565Z"
   },
   {
    "duration": 8,
    "start_time": "2023-08-09T05:45:59.689Z"
   },
   {
    "duration": 489,
    "start_time": "2023-08-09T05:46:08.383Z"
   },
   {
    "duration": 113,
    "start_time": "2023-08-09T05:46:08.874Z"
   },
   {
    "duration": 17,
    "start_time": "2023-08-09T05:46:08.990Z"
   },
   {
    "duration": 673,
    "start_time": "2023-08-09T05:46:09.009Z"
   },
   {
    "duration": 697,
    "start_time": "2023-08-09T05:46:09.684Z"
   },
   {
    "duration": 39,
    "start_time": "2023-08-09T05:46:10.382Z"
   },
   {
    "duration": 30,
    "start_time": "2023-08-09T05:46:10.423Z"
   },
   {
    "duration": 109,
    "start_time": "2023-08-09T05:51:56.678Z"
   },
   {
    "duration": 97,
    "start_time": "2023-08-09T05:52:02.867Z"
   },
   {
    "duration": 52,
    "start_time": "2023-08-09T05:52:22.157Z"
   },
   {
    "duration": 13,
    "start_time": "2023-08-09T05:53:44.289Z"
   },
   {
    "duration": 15,
    "start_time": "2023-08-09T05:54:00.495Z"
   },
   {
    "duration": 17,
    "start_time": "2023-08-09T05:54:10.199Z"
   },
   {
    "duration": 21,
    "start_time": "2023-08-09T05:54:51.887Z"
   },
   {
    "duration": 9,
    "start_time": "2023-08-09T05:55:12.166Z"
   },
   {
    "duration": 18,
    "start_time": "2023-08-09T05:56:07.466Z"
   },
   {
    "duration": 10,
    "start_time": "2023-08-09T05:56:53.122Z"
   },
   {
    "duration": 6,
    "start_time": "2023-08-09T06:00:42.779Z"
   },
   {
    "duration": 15,
    "start_time": "2023-08-09T06:01:36.237Z"
   },
   {
    "duration": 988,
    "start_time": "2023-08-09T08:58:45.227Z"
   },
   {
    "duration": 338,
    "start_time": "2023-08-09T08:58:46.217Z"
   },
   {
    "duration": 29,
    "start_time": "2023-08-09T08:58:46.557Z"
   },
   {
    "duration": 1325,
    "start_time": "2023-08-09T08:58:46.588Z"
   },
   {
    "duration": 125,
    "start_time": "2023-08-09T08:58:47.915Z"
   },
   {
    "duration": 0,
    "start_time": "2023-08-09T08:58:48.042Z"
   },
   {
    "duration": 0,
    "start_time": "2023-08-09T08:58:48.044Z"
   },
   {
    "duration": 0,
    "start_time": "2023-08-09T08:58:48.045Z"
   },
   {
    "duration": 0,
    "start_time": "2023-08-09T08:58:48.047Z"
   },
   {
    "duration": 0,
    "start_time": "2023-08-09T08:58:48.048Z"
   },
   {
    "duration": 0,
    "start_time": "2023-08-09T08:58:48.049Z"
   },
   {
    "duration": 4,
    "start_time": "2023-08-09T08:59:04.475Z"
   },
   {
    "duration": 88,
    "start_time": "2023-08-09T08:59:04.481Z"
   },
   {
    "duration": 21,
    "start_time": "2023-08-09T08:59:04.570Z"
   },
   {
    "duration": 753,
    "start_time": "2023-08-09T08:59:04.592Z"
   },
   {
    "duration": 865,
    "start_time": "2023-08-09T08:59:05.348Z"
   },
   {
    "duration": 239,
    "start_time": "2023-08-09T08:59:06.214Z"
   },
   {
    "duration": 122,
    "start_time": "2023-08-09T08:59:06.454Z"
   },
   {
    "duration": 0,
    "start_time": "2023-08-09T08:59:06.578Z"
   },
   {
    "duration": 0,
    "start_time": "2023-08-09T08:59:06.579Z"
   },
   {
    "duration": 0,
    "start_time": "2023-08-09T08:59:06.580Z"
   },
   {
    "duration": 6,
    "start_time": "2023-08-09T08:59:15.759Z"
   },
   {
    "duration": 85,
    "start_time": "2023-08-09T08:59:15.767Z"
   },
   {
    "duration": 22,
    "start_time": "2023-08-09T08:59:15.854Z"
   },
   {
    "duration": 749,
    "start_time": "2023-08-09T08:59:15.878Z"
   },
   {
    "duration": 776,
    "start_time": "2023-08-09T08:59:16.629Z"
   },
   {
    "duration": 231,
    "start_time": "2023-08-09T08:59:17.407Z"
   },
   {
    "duration": 20,
    "start_time": "2023-08-09T08:59:17.640Z"
   },
   {
    "duration": 11,
    "start_time": "2023-08-09T08:59:17.670Z"
   },
   {
    "duration": 30,
    "start_time": "2023-08-09T08:59:17.682Z"
   },
   {
    "duration": 236,
    "start_time": "2023-08-09T09:00:55.190Z"
   },
   {
    "duration": 217,
    "start_time": "2023-08-09T09:01:15.972Z"
   },
   {
    "duration": 4,
    "start_time": "2023-08-09T09:02:25.954Z"
   },
   {
    "duration": 978,
    "start_time": "2023-08-09T09:34:32.724Z"
   },
   {
    "duration": 395,
    "start_time": "2023-08-09T09:34:33.705Z"
   },
   {
    "duration": 39,
    "start_time": "2023-08-09T09:34:34.105Z"
   },
   {
    "duration": 1627,
    "start_time": "2023-08-09T09:34:34.147Z"
   },
   {
    "duration": 899,
    "start_time": "2023-08-09T09:34:35.777Z"
   },
   {
    "duration": 225,
    "start_time": "2023-08-09T09:34:36.678Z"
   },
   {
    "duration": 7,
    "start_time": "2023-08-09T09:34:36.906Z"
   },
   {
    "duration": 21,
    "start_time": "2023-08-09T09:34:36.915Z"
   },
   {
    "duration": 14,
    "start_time": "2023-08-09T09:34:36.938Z"
   },
   {
    "duration": 23,
    "start_time": "2023-08-09T09:52:36.692Z"
   },
   {
    "duration": 893,
    "start_time": "2023-08-09T09:54:04.800Z"
   },
   {
    "duration": 116,
    "start_time": "2023-08-09T09:54:05.696Z"
   },
   {
    "duration": 25,
    "start_time": "2023-08-09T09:54:05.814Z"
   },
   {
    "duration": 1098,
    "start_time": "2023-08-09T09:54:05.841Z"
   },
   {
    "duration": 800,
    "start_time": "2023-08-09T09:54:06.941Z"
   },
   {
    "duration": 198,
    "start_time": "2023-08-09T09:54:07.742Z"
   },
   {
    "duration": 35,
    "start_time": "2023-08-09T09:54:07.942Z"
   },
   {
    "duration": 691,
    "start_time": "2023-08-09T09:54:07.979Z"
   },
   {
    "duration": 25,
    "start_time": "2023-08-09T09:54:08.671Z"
   },
   {
    "duration": 14,
    "start_time": "2023-08-09T09:54:08.699Z"
   },
   {
    "duration": 109,
    "start_time": "2023-08-09T10:21:26.199Z"
   },
   {
    "duration": 111,
    "start_time": "2023-08-09T10:21:58.583Z"
   },
   {
    "duration": 108,
    "start_time": "2023-08-09T10:22:46.247Z"
   },
   {
    "duration": 3,
    "start_time": "2023-08-09T10:25:59.303Z"
   },
   {
    "duration": 107,
    "start_time": "2023-08-09T10:25:59.308Z"
   },
   {
    "duration": 19,
    "start_time": "2023-08-09T10:25:59.417Z"
   },
   {
    "duration": 680,
    "start_time": "2023-08-09T10:25:59.438Z"
   },
   {
    "duration": 860,
    "start_time": "2023-08-09T10:26:00.119Z"
   },
   {
    "duration": 191,
    "start_time": "2023-08-09T10:26:00.981Z"
   },
   {
    "duration": 6,
    "start_time": "2023-08-09T10:26:01.174Z"
   },
   {
    "duration": 52,
    "start_time": "2023-08-09T10:26:01.181Z"
   },
   {
    "duration": 58,
    "start_time": "2023-08-09T10:26:01.234Z"
   },
   {
    "duration": 361,
    "start_time": "2023-08-09T10:27:08.964Z"
   },
   {
    "duration": 579,
    "start_time": "2023-08-09T10:30:45.532Z"
   },
   {
    "duration": 476,
    "start_time": "2023-08-09T10:31:31.161Z"
   },
   {
    "duration": 611,
    "start_time": "2023-08-09T10:31:49.734Z"
   },
   {
    "duration": 785,
    "start_time": "2023-08-09T10:32:32.599Z"
   },
   {
    "duration": 1046,
    "start_time": "2023-08-09T10:33:23.729Z"
   },
   {
    "duration": 816,
    "start_time": "2023-08-09T10:33:33.383Z"
   },
   {
    "duration": 865,
    "start_time": "2023-08-09T10:33:42.887Z"
   },
   {
    "duration": 2025,
    "start_time": "2023-08-09T10:34:58.258Z"
   },
   {
    "duration": 1020,
    "start_time": "2023-08-09T10:35:09.608Z"
   },
   {
    "duration": 832,
    "start_time": "2023-08-09T10:35:53.194Z"
   },
   {
    "duration": 847,
    "start_time": "2023-08-09T10:36:33.076Z"
   },
   {
    "duration": 1008,
    "start_time": "2023-08-09T10:36:44.407Z"
   },
   {
    "duration": 786,
    "start_time": "2023-08-09T10:37:27.595Z"
   },
   {
    "duration": 32,
    "start_time": "2023-08-09T10:43:20.139Z"
   },
   {
    "duration": 33,
    "start_time": "2023-08-09T10:43:39.730Z"
   },
   {
    "duration": 172,
    "start_time": "2023-08-09T10:44:20.832Z"
   },
   {
    "duration": 70,
    "start_time": "2023-08-09T10:44:30.171Z"
   },
   {
    "duration": 4,
    "start_time": "2023-08-09T10:44:36.710Z"
   },
   {
    "duration": 131,
    "start_time": "2023-08-09T10:44:36.716Z"
   },
   {
    "duration": 46,
    "start_time": "2023-08-09T10:44:36.848Z"
   },
   {
    "duration": 878,
    "start_time": "2023-08-09T10:44:36.895Z"
   },
   {
    "duration": 730,
    "start_time": "2023-08-09T10:44:37.774Z"
   },
   {
    "duration": 192,
    "start_time": "2023-08-09T10:44:38.506Z"
   },
   {
    "duration": 7,
    "start_time": "2023-08-09T10:44:38.701Z"
   },
   {
    "duration": 23,
    "start_time": "2023-08-09T10:44:38.710Z"
   },
   {
    "duration": 11,
    "start_time": "2023-08-09T10:44:38.735Z"
   },
   {
    "duration": 47,
    "start_time": "2023-08-09T10:45:15.382Z"
   },
   {
    "duration": 3,
    "start_time": "2023-08-09T10:45:21.103Z"
   },
   {
    "duration": 117,
    "start_time": "2023-08-09T10:45:21.107Z"
   },
   {
    "duration": 58,
    "start_time": "2023-08-09T10:45:21.226Z"
   },
   {
    "duration": 951,
    "start_time": "2023-08-09T10:45:21.286Z"
   },
   {
    "duration": 765,
    "start_time": "2023-08-09T10:45:22.239Z"
   },
   {
    "duration": 194,
    "start_time": "2023-08-09T10:45:23.006Z"
   },
   {
    "duration": 7,
    "start_time": "2023-08-09T10:45:23.202Z"
   },
   {
    "duration": 40,
    "start_time": "2023-08-09T10:45:23.211Z"
   },
   {
    "duration": 23,
    "start_time": "2023-08-09T10:45:23.253Z"
   },
   {
    "duration": 53,
    "start_time": "2023-08-09T10:46:16.678Z"
   },
   {
    "duration": 4,
    "start_time": "2023-08-09T10:46:21.756Z"
   },
   {
    "duration": 113,
    "start_time": "2023-08-09T10:46:21.765Z"
   },
   {
    "duration": 34,
    "start_time": "2023-08-09T10:46:21.880Z"
   },
   {
    "duration": 1008,
    "start_time": "2023-08-09T10:46:21.915Z"
   },
   {
    "duration": 796,
    "start_time": "2023-08-09T10:46:22.925Z"
   },
   {
    "duration": 209,
    "start_time": "2023-08-09T10:46:23.722Z"
   },
   {
    "duration": 8,
    "start_time": "2023-08-09T10:46:23.934Z"
   },
   {
    "duration": 24,
    "start_time": "2023-08-09T10:46:23.944Z"
   },
   {
    "duration": 11,
    "start_time": "2023-08-09T10:46:23.978Z"
   },
   {
    "duration": 772,
    "start_time": "2023-08-09T10:48:36.704Z"
   },
   {
    "duration": 17,
    "start_time": "2023-08-09T10:48:47.183Z"
   },
   {
    "duration": 144,
    "start_time": "2023-08-09T10:49:10.637Z"
   },
   {
    "duration": 800,
    "start_time": "2023-08-09T10:49:15.478Z"
   },
   {
    "duration": 971,
    "start_time": "2023-08-09T10:49:48.931Z"
   },
   {
    "duration": 831,
    "start_time": "2023-08-09T10:57:33.418Z"
   },
   {
    "duration": 726,
    "start_time": "2023-08-09T10:57:46.487Z"
   },
   {
    "duration": 1081,
    "start_time": "2023-08-09T10:58:25.749Z"
   },
   {
    "duration": 792,
    "start_time": "2023-08-09T11:06:09.546Z"
   },
   {
    "duration": 819,
    "start_time": "2023-08-09T11:07:46.587Z"
   },
   {
    "duration": 174,
    "start_time": "2023-08-09T11:09:30.511Z"
   },
   {
    "duration": 184,
    "start_time": "2023-08-09T11:09:39.353Z"
   },
   {
    "duration": 202,
    "start_time": "2023-08-09T11:10:10.792Z"
   },
   {
    "duration": 190,
    "start_time": "2023-08-09T11:10:19.840Z"
   },
   {
    "duration": 220,
    "start_time": "2023-08-09T11:11:00.528Z"
   },
   {
    "duration": 191,
    "start_time": "2023-08-09T11:11:47.224Z"
   },
   {
    "duration": 139,
    "start_time": "2023-08-09T11:13:59.039Z"
   },
   {
    "duration": 12,
    "start_time": "2023-08-09T11:17:18.114Z"
   },
   {
    "duration": 12,
    "start_time": "2023-08-09T11:19:09.428Z"
   },
   {
    "duration": 12,
    "start_time": "2023-08-09T11:20:29.869Z"
   },
   {
    "duration": 9,
    "start_time": "2023-08-09T11:20:40.090Z"
   },
   {
    "duration": 6,
    "start_time": "2023-08-09T11:33:53.647Z"
   },
   {
    "duration": 10,
    "start_time": "2023-08-09T11:37:56.418Z"
   },
   {
    "duration": 17,
    "start_time": "2023-08-09T11:38:01.448Z"
   },
   {
    "duration": 7,
    "start_time": "2023-08-09T11:38:05.587Z"
   },
   {
    "duration": 3,
    "start_time": "2023-08-09T11:38:09.501Z"
   },
   {
    "duration": 132,
    "start_time": "2023-08-09T11:38:09.506Z"
   },
   {
    "duration": 64,
    "start_time": "2023-08-09T11:38:09.640Z"
   },
   {
    "duration": 1165,
    "start_time": "2023-08-09T11:38:09.706Z"
   },
   {
    "duration": 859,
    "start_time": "2023-08-09T11:38:10.873Z"
   },
   {
    "duration": 222,
    "start_time": "2023-08-09T11:38:11.733Z"
   },
   {
    "duration": 10,
    "start_time": "2023-08-09T11:38:11.959Z"
   },
   {
    "duration": 13,
    "start_time": "2023-08-09T11:38:11.973Z"
   },
   {
    "duration": 20,
    "start_time": "2023-08-09T11:38:11.989Z"
   },
   {
    "duration": 166,
    "start_time": "2023-08-09T11:39:14.247Z"
   },
   {
    "duration": 1110,
    "start_time": "2023-08-09T12:26:27.636Z"
   },
   {
    "duration": 440,
    "start_time": "2023-08-09T12:26:28.748Z"
   },
   {
    "duration": 38,
    "start_time": "2023-08-09T12:26:29.191Z"
   },
   {
    "duration": 918,
    "start_time": "2023-08-09T12:26:29.232Z"
   },
   {
    "duration": 874,
    "start_time": "2023-08-09T12:26:30.151Z"
   },
   {
    "duration": 227,
    "start_time": "2023-08-09T12:26:31.026Z"
   },
   {
    "duration": 21,
    "start_time": "2023-08-09T12:26:31.255Z"
   },
   {
    "duration": 38,
    "start_time": "2023-08-09T12:26:31.278Z"
   },
   {
    "duration": 31,
    "start_time": "2023-08-09T12:26:31.319Z"
   },
   {
    "duration": 8,
    "start_time": "2023-08-09T13:04:01.834Z"
   },
   {
    "duration": 1025,
    "start_time": "2023-08-09T13:04:08.209Z"
   },
   {
    "duration": 167,
    "start_time": "2023-08-09T13:04:09.236Z"
   },
   {
    "duration": 57,
    "start_time": "2023-08-09T13:04:09.405Z"
   },
   {
    "duration": 815,
    "start_time": "2023-08-09T13:04:09.464Z"
   },
   {
    "duration": 781,
    "start_time": "2023-08-09T13:04:10.283Z"
   },
   {
    "duration": 210,
    "start_time": "2023-08-09T13:04:11.066Z"
   },
   {
    "duration": 6,
    "start_time": "2023-08-09T13:04:11.278Z"
   },
   {
    "duration": 6,
    "start_time": "2023-08-09T13:04:11.286Z"
   },
   {
    "duration": 9,
    "start_time": "2023-08-09T13:04:11.293Z"
   },
   {
    "duration": 5,
    "start_time": "2023-08-09T13:04:11.303Z"
   },
   {
    "duration": 109,
    "start_time": "2023-08-10T04:02:19.455Z"
   },
   {
    "duration": 6,
    "start_time": "2023-08-10T04:02:27.635Z"
   },
   {
    "duration": 5,
    "start_time": "2023-08-10T04:03:17.426Z"
   },
   {
    "duration": 4,
    "start_time": "2023-08-10T04:03:32.560Z"
   },
   {
    "duration": 4,
    "start_time": "2023-08-10T04:03:41.828Z"
   },
   {
    "duration": 8,
    "start_time": "2023-08-10T04:03:51.699Z"
   },
   {
    "duration": 1205,
    "start_time": "2023-08-10T04:03:59.774Z"
   },
   {
    "duration": 422,
    "start_time": "2023-08-10T04:04:00.982Z"
   },
   {
    "duration": 34,
    "start_time": "2023-08-10T04:04:01.406Z"
   },
   {
    "duration": 784,
    "start_time": "2023-08-10T04:04:01.442Z"
   },
   {
    "duration": 760,
    "start_time": "2023-08-10T04:04:02.228Z"
   },
   {
    "duration": 190,
    "start_time": "2023-08-10T04:04:02.990Z"
   },
   {
    "duration": 7,
    "start_time": "2023-08-10T04:04:03.181Z"
   },
   {
    "duration": 77,
    "start_time": "2023-08-10T04:04:03.189Z"
   },
   {
    "duration": 0,
    "start_time": "2023-08-10T04:04:03.267Z"
   },
   {
    "duration": 7,
    "start_time": "2023-08-10T04:04:44.770Z"
   },
   {
    "duration": 119,
    "start_time": "2023-08-10T04:05:27.939Z"
   },
   {
    "duration": 12,
    "start_time": "2023-08-10T04:10:05.896Z"
   },
   {
    "duration": 125,
    "start_time": "2023-08-10T04:10:18.824Z"
   },
   {
    "duration": 1089,
    "start_time": "2023-08-10T05:19:13.253Z"
   },
   {
    "duration": 403,
    "start_time": "2023-08-10T05:19:14.345Z"
   },
   {
    "duration": 36,
    "start_time": "2023-08-10T05:19:14.750Z"
   },
   {
    "duration": 839,
    "start_time": "2023-08-10T05:19:14.788Z"
   },
   {
    "duration": 767,
    "start_time": "2023-08-10T05:19:15.629Z"
   },
   {
    "duration": 195,
    "start_time": "2023-08-10T05:19:16.398Z"
   },
   {
    "duration": 6,
    "start_time": "2023-08-10T05:19:16.595Z"
   },
   {
    "duration": 7,
    "start_time": "2023-08-10T05:19:16.603Z"
   },
   {
    "duration": 13,
    "start_time": "2023-08-10T05:19:16.611Z"
   }
  ],
  "kernelspec": {
   "display_name": "Python 3 (ipykernel)",
   "language": "python",
   "name": "python3"
  },
  "language_info": {
   "codemirror_mode": {
    "name": "ipython",
    "version": 3
   },
   "file_extension": ".py",
   "mimetype": "text/x-python",
   "name": "python",
   "nbconvert_exporter": "python",
   "pygments_lexer": "ipython3",
   "version": "3.11.5"
  },
  "toc": {
   "base_numbering": 1,
   "nav_menu": {},
   "number_sections": true,
   "sideBar": true,
   "skip_h1_title": true,
   "title_cell": "Table of Contents",
   "title_sidebar": "Contents",
   "toc_cell": false,
   "toc_position": {},
   "toc_section_display": true,
   "toc_window_display": false
  }
 },
 "nbformat": 4,
 "nbformat_minor": 5
}
